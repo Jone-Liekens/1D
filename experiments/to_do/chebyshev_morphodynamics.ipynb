{
 "cells": [
  {
   "cell_type": "code",
   "execution_count": 8,
   "id": "9d85102e",
   "metadata": {},
   "outputs": [
    {
     "name": "stdout",
     "output_type": "stream",
     "text": [
      "The autoreload extension is already loaded. To reload it, use:\n",
      "  %reload_ext autoreload\n"
     ]
    }
   ],
   "source": [
    "%load_ext autoreload\n",
    "%reload_ext autoreload\n",
    "%autoreload 2\n",
    "\n",
    "import numpy as np\n",
    "from numpy import sin, cos, tan, atan, cosh, sinh, tanh, abs, linspace, min, max, argmin, argmax, pi, mean, exp, sqrt, zeros, ones, nan\n",
    "import scipy\n",
    "import sys\n",
    "import matplotlib.pyplot as plt\n",
    "from matplotlib import cm\n",
    "from numpy.polynomial import chebyshev\n",
    "\n",
    "sys.path.insert(0,'../../src/harmonic/')\n",
    "sys.path.insert(0,'../../src/timesteps/')\n",
    "\n",
    "from cswe_harm import *"
   ]
  },
  {
   "cell_type": "code",
   "execution_count": 9,
   "id": "8a664d76",
   "metadata": {},
   "outputs": [
    {
     "data": {
      "image/png": "[encoded data removed]",
      "text/plain": [
       "<Figure size 640x480 with 1 Axes>"
      ]
     },
     "metadata": {},
     "output_type": "display_data"
    },
    {
     "data": {
      "text/latex": [
       "$x \\mapsto \\color{LightGray}{\\text{-0.0}\\,{T}_{0}(x)} + \\text{1.0}\\,{T}_{1}(x)\\color{LightGray}{ + \\text{-0.0}\\,{T}_{2}(x)}\\color{LightGray}{ + \\text{-0.0}\\,{T}_{3}(x)}\\color{LightGray}{ + \\text{-0.0}\\,{T}_{4}(x)}\\color{LightGray}{ + \\text{-0.0}\\,{T}_{5}(x)}\\color{LightGray}{ + \\text{0.0}\\,{T}_{6}(x)}\\color{LightGray}{ + \\text{-0.0}\\,{T}_{7}(x)}\\color{LightGray}{ + \\text{-0.0}\\,{T}_{8}(x)}\\color{LightGray}{ + \\text{-0.0}\\,{T}_{9}(x)}$"
      ],
      "text/plain": [
       "Chebyshev([-0.,  1., -0., -0., -0., -0.,  0., -0., -0., -0.], domain=[-1.,  1.], window=[-1.,  1.], symbol='x')"
      ]
     },
     "execution_count": 9,
     "metadata": {},
     "output_type": "execute_result"
    }
   ],
   "source": [
    "\n",
    "\n",
    "nr_poly_coeffs = 10\n",
    "degr_freedom = nr_poly_coeffs - 2\n",
    "\n",
    "# we optimize for psi\n",
    "var = 0.0\n",
    "psi = np.random.randn(degr_freedom) * var\n",
    "\n",
    "\n",
    "def generate_polynomial(psi, plot=False):\n",
    "\n",
    "    poly = np.polynomial.chebyshev.Chebyshev(np.concatenate((np.array([0., 0]), psi)))\n",
    "\n",
    "    weight_0 = - poly(-1)\n",
    "    weight_1 = 1 - poly(1) - weight_0\n",
    "\n",
    "    actual_poly = np.polynomial.chebyshev.Chebyshev(np.concatenate((np.array([weight_0, weight_1]), psi)))\n",
    "\n",
    "    if plot:\n",
    "        x = linspace(0, 1, 1000)\n",
    "        plt.plot(x, (actual_poly(2 * x - 1) + 1) / 2)\n",
    "        plt.show()\n",
    "\n",
    "    # s = actual_poly.deriv().deriv()\n",
    "    # print(s)\n",
    "    # print(s(5))\n",
    "\n",
    "    return actual_poly\n",
    "\n",
    "\n",
    "generate_polynomial(psi, True)\n"
   ]
  },
  {
   "cell_type": "code",
   "execution_count": 10,
   "id": "7ac5545a",
   "metadata": {},
   "outputs": [
    {
     "name": "stdout",
     "output_type": "stream",
     "text": [
      "(4, 15809)\n",
      "       message: A singular Jacobian encountered when solving the collocation system.\n",
      "       success: False\n",
      "        status: 2\n",
      "             x: [ 0.000e+00  9.910e-04 ...  1.000e+00  1.000e+00]\n",
      "           sol: <scipy.interpolate._interpolate.PPoly object at 0x000001E8AF9DF840>\n",
      "             p: None\n",
      "             y: [[ 1.000e-01  1.000e-01 ...  1.000e-01  1.000e-01]\n",
      "                 [ 1.000e-01  1.000e-01 ...  1.000e-01  1.000e-01]\n",
      "                 ...\n",
      "                 [ 1.000e-01  1.000e-01 ...  1.000e-01  1.000e-01]\n",
      "                 [ 1.000e-01  1.000e-01 ...  1.000e-01  1.000e-01]]\n",
      "            yp: [[-2.446e-04 -2.447e-04 ... -1.880e-03 -1.880e-03]\n",
      "                 [-3.672e-03 -3.672e-03 ... -4.499e-03 -4.499e-03]\n",
      "                 ...\n",
      "                 [-1.016e-01 -1.017e-01 ... -5.700e+03 -1.141e+04]\n",
      "                 [ 3.137e-01  3.140e-01 ...  1.568e+04  3.138e+04]]\n",
      " rms_residuals: [ 2.977e-01  2.980e-01 ...  1.937e+00  2.016e+00]\n",
      "         niter: 1\n"
     ]
    },
    {
     "ename": "SystemError",
     "evalue": "",
     "output_type": "error",
     "traceback": [
      "\u001b[31m---------------------------------------------------------------------------\u001b[39m",
      "\u001b[31mSystemError\u001b[39m                               Traceback (most recent call last)",
      "\u001b[36mCell\u001b[39m\u001b[36m \u001b[39m\u001b[32mIn[10]\u001b[39m\u001b[32m, line 32\u001b[39m\n\u001b[32m     29\u001b[39m     plt.plot(x, h_xx(x))\n\u001b[32m     30\u001b[39m     plt.show()\n\u001b[32m---> \u001b[39m\u001b[32m32\u001b[39m \u001b[43mcompute_residual\u001b[49m\u001b[43m(\u001b[49m\u001b[43mcsweharm\u001b[49m\u001b[43m,\u001b[49m\u001b[43m \u001b[49m\u001b[43mpsi\u001b[49m\u001b[43m)\u001b[49m\n",
      "\u001b[36mCell\u001b[39m\u001b[36m \u001b[39m\u001b[32mIn[10]\u001b[39m\u001b[32m, line 18\u001b[39m, in \u001b[36mcompute_residual\u001b[39m\u001b[34m(comp, psi)\u001b[39m\n\u001b[32m     16\u001b[39m comp.interpolate_LO()\n\u001b[32m     17\u001b[39m comp.small_number = \u001b[32m1e-5\u001b[39m\n\u001b[32m---> \u001b[39m\u001b[32m18\u001b[39m \u001b[43mcomp\u001b[49m\u001b[43m.\u001b[49m\u001b[43msolve_FO_small_number_interpolation_based\u001b[49m\u001b[43m(\u001b[49m\u001b[43m)\u001b[49m\n\u001b[32m     20\u001b[39m \u001b[38;5;66;03m# extract u_res and u_res_x\u001b[39;00m\n\u001b[32m     22\u001b[39m x = np.linspace(\u001b[32m0\u001b[39m, \u001b[32m1\u001b[39m, \u001b[32m1000\u001b[39m)\n",
      "\u001b[36mFile \u001b[39m\u001b[32mc:\\Users\\jolieken\\OneDrive - UGent\\Documents\\Code\\1D\\experiments\\to_do\\../../src/harmonic\\cswe_harm.py:499\u001b[39m, in \u001b[36mCSWEHarm.solve_FO_small_number_interpolation_based\u001b[39m\u001b[34m(self)\u001b[39m\n\u001b[32m    497\u001b[39m \u001b[38;5;28;01mif\u001b[39;00m sol.status:\n\u001b[32m    498\u001b[39m     \u001b[38;5;28mprint\u001b[39m(sol)\n\u001b[32m--> \u001b[39m\u001b[32m499\u001b[39m     \u001b[38;5;28;01mraise\u001b[39;00m \u001b[38;5;167;01mSystemError\u001b[39;00m\n\u001b[32m    502\u001b[39m \u001b[38;5;28mself\u001b[39m.y1 = sol \n\u001b[32m    505\u001b[39m \u001b[38;5;28;01mif\u001b[39;00m \u001b[38;5;28mself\u001b[39m.debug:\n",
      "\u001b[31mSystemError\u001b[39m: "
     ]
    }
   ],
   "source": [
    "\n",
    "\n",
    "csweharm = CSWEHarm()\n",
    "csweharm.h0 = 0.1\n",
    "csweharm.r = 0.1\n",
    "\n",
    "def compute_residual(comp, psi):\n",
    "    h = generate_polynomial(psi)\n",
    "    h_x = h.deriv()\n",
    "    h_xx = h_x.deriv()\n",
    "\n",
    "    comp.h   = lambda x: (h(2 * x - 1) + 1) / 2\n",
    "    comp.h_x = lambda x: (h_x(2 * x - 1) + 1) / 2\n",
    "\n",
    "    comp.small_number = 1e-7\n",
    "    comp.solve_LO_small_number()\n",
    "    print(comp.y0.y.shape)\n",
    "    comp.interpolate_LO()\n",
    "    comp.small_number = 1e-5\n",
    "    comp.solve_FO_small_number_interpolation_based()\n",
    "\n",
    "    # extract u_res and u_res_x\n",
    "\n",
    "    x = np.linspace(0, 1, 1000)\n",
    "    u1_res = comp.y1.sol(x)[4]\n",
    "    u1_res_x = comp.y1.sol(x, nu=1)[4]\n",
    "\n",
    "    ideal_h_xx = comp.delta * comp.i / comp.lmbda * 5 * u1_res**4 * u1_res_x\n",
    "\n",
    "    plt.plot(x, ideal_h_xx)\n",
    "    plt.plot(x, h_xx(x))\n",
    "    plt.show()\n",
    "\n",
    "compute_residual(csweharm, psi)\n",
    "\n",
    "    \n",
    "\n",
    "\n",
    "\n"
   ]
  }
 ],
 "metadata": {
  "kernelspec": {
   "display_name": "venv",
   "language": "python",
   "name": "python3"
  },
  "language_info": {
   "codemirror_mode": {
    "name": "ipython",
    "version": 3
   },
   "file_extension": ".py",
   "mimetype": "text/x-python",
   "name": "python",
   "nbconvert_exporter": "python",
   "pygments_lexer": "ipython3",
   "version": "3.13.6"
  }
 },
 "nbformat": 4,
 "nbformat_minor": 5
}
