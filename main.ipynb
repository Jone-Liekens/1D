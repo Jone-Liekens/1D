{
 "cells": [
  {
   "cell_type": "code",
   "execution_count": null,
   "id": "4eb70079",
   "metadata": {},
   "outputs": [],
   "source": [
    "%load_ext autoreload\n",
    "%reload_ext autoreload\n",
    "%autoreload 2\n",
    "\n",
    "from defina import *\n",
    "from coordinate_transform import *\n",
    "from plots import pickle_dump, pickle_load"
   ]
  },
  {
   "cell_type": "code",
   "execution_count": null,
   "id": "34c8f39b",
   "metadata": {},
   "outputs": [],
   "source": [
    "\n",
    "ct = CoordinateTransform()\n",
    "ct.solve_pde()\n"
   ]
  },
  {
   "cell_type": "code",
   "execution_count": null,
   "id": "592b5be0",
   "metadata": {},
   "outputs": [],
   "source": [
    "ct_sol = ct.generate_solution()\n",
    "ct_sol.heatmaps()"
   ]
  },
  {
   "cell_type": "code",
   "execution_count": null,
   "id": "b6ed8c69",
   "metadata": {},
   "outputs": [],
   "source": []
  },
  {
   "cell_type": "code",
   "execution_count": null,
   "id": "1d87ee87",
   "metadata": {},
   "outputs": [],
   "source": [
    "per_ct_sol = ct_sol.one_period_solution()\n",
    "\n",
    "pickle_dump(per_ct_sol, \"mysolution.pkl\")\n",
    "\n",
    "per_ct_sol.other_plots()"
   ]
  },
  {
   "cell_type": "code",
   "execution_count": null,
   "id": "d2e9a80a",
   "metadata": {},
   "outputs": [],
   "source": [
    "np.set_printoptions(threshold=40, edgeitems=4)\n",
    "np.set_printoptions(linewidth=160)\n",
    "np.set_printoptions(\n",
    "    formatter={'float_kind': lambda x: f\"{x:.2e}\"}\n",
    "    #formatter={'float_kind': lambda x: f\"{x:.2g}\"},\n",
    "    #suppress=False \n",
    ")\n",
    "\n",
    "d = Defina()\n",
    "d.dL = 0.5\n",
    "d.solve_pde()\n"
   ]
  },
  {
   "cell_type": "code",
   "execution_count": null,
   "id": "3fbfbd62",
   "metadata": {},
   "outputs": [],
   "source": [
    "d_sol = d.generate_solution()\n",
    "d_sol.heatmaps()\n"
   ]
  },
  {
   "cell_type": "code",
   "execution_count": null,
   "id": "159e4fdf",
   "metadata": {},
   "outputs": [],
   "source": [
    "\n",
    "per_d_sol = d_sol.one_period_solution()\n",
    "per_d_sol.other_plots()"
   ]
  }
 ],
 "metadata": {
  "kernelspec": {
   "display_name": "venv",
   "language": "python",
   "name": "python3"
  },
  "language_info": {
   "codemirror_mode": {
    "name": "ipython",
    "version": 3
   },
   "file_extension": ".py",
   "mimetype": "text/x-python",
   "name": "python",
   "nbconvert_exporter": "python",
   "pygments_lexer": "ipython3",
   "version": "3.13.5"
  }
 },
 "nbformat": 4,
 "nbformat_minor": 5
}
